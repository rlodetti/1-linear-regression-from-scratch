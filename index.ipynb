{
 "cells": [
  {
   "cell_type": "markdown",
   "metadata": {},
   "source": [
    "# Simple Linear Regression from Scratch - Codealong\n",
    "\n",
    "## Introduction\n",
    "\n",
    "In this codealong, you'll get some hands-on practice developing a simple linear regression model. In practice, you would typically use a code library rather than writing linear regression code from scratch, but this is an exercise designed to help you see what is happening \"under the hood\".\n",
    "\n",
    "## Objectives\n",
    "\n",
    "You will be able to:\n",
    "\n",
    "* Perform a linear regression using self-constructed functions\n",
    "* Interpret the parameters of a simple linear regression model in relation to what they signify for specific data"
   ]
  },
  {
   "cell_type": "markdown",
   "metadata": {},
   "source": [
    "## Simple Linear Regression Recap\n",
    "\n",
    "Remember that the ***data*** for a simple linear regression consists of $y$ (the _dependent_ variable) and $x$ (the _independent_ variable). Then the model ***parameters*** are the slope of the line, denoted as $m$ or $\\beta_1$, and the intercept ($y$ value of the line when $x$ is 0), denoted as $c$ or $\\beta_0$.\n",
    "\n",
    "Thus the overall model notation is \n",
    "\n",
    "$$y=mx+c$$\n",
    "\n",
    "or, alternatively\n",
    "\n",
    "$$y = \\beta_0+ \\beta_1 x $$\n",
    "\n",
    "In the example below, $c$ is equal to 15 and $m$ is equal to 3.\n",
    "\n",
    "In other words, the overall equation is $y=3x+15$.\n",
    "\n",
    "<img src=\"images/linregall.png\" width=\"650\">"
   ]
  },
  {
   "cell_type": "markdown",
   "metadata": {},
   "source": [
    "## Finding Model Parameters\n",
    "\n",
    "If you think back to the basic algebra formulas, you might remember that slope can be calculated between two points by finding the change in y over the change in x, i.e. $\\Delta y / \\Delta x$. But now you are dealing with messy data rather than perfect abstractions, so your regression line is not going to represent the relationship perfectly (i.e. there is going to be some amount of _error_). The question is how to find the ***best fit*** line, rather than just calculating $\\Delta y / \\Delta x$.\n",
    "\n",
    "Because these are ***estimations***, we'll use the \"hat\" notation for the variables, i.e.\n",
    "\n",
    "$$\\hat{y} = \\hat{m} x + \\hat{c}$$\n",
    "\n",
    "or\n",
    "\n",
    "$$\\hat{y} = \\hat{\\beta_0} + \\hat{\\beta_1} x $$\n",
    "\n",
    "Everything in these equations represented with a \"hat\" (e.g. $\\hat{y}$ rather than just $y$) means that it is an estimate or an approximation. The only part that is not using this notation is $x$, because we have the actual data values for the independent variable.\n",
    "\n",
    "So, how do you find the line with the best fit? You may think that you have to try lots and lots of different lines to see which one fits best. Fortunately, this task is not as complicated as it may seem. Given some data points, **the best-fit line always has a distinct slope and y-intercept that can be calculated using simple linear algebraic approaches**."
   ]
  },
  {
   "cell_type": "markdown",
   "metadata": {},
   "source": [
    "### The Least-Squares Method\n",
    "\n",
    "We can calculate $\\hat{m}$ (the slope of the best-fit line) using this formula:\n",
    "\n",
    "$$\\hat{m} = \\rho \\frac{S_y}{S_x}$$\n",
    "\n",
    "Breaking down those components, we have:\n",
    "\n",
    "* $\\hat{m}$: the estimated slope\n",
    "* $\\rho$: the Pearson correlation, represented by the Greek letter \"Rho\"\n",
    "* $S_y$: the standard deviation of the y values\n",
    "* $S_x$: the standard deviation of the x values\n",
    "\n",
    "(You can visit [this Wikipedia link](https://en.wikipedia.org/wiki/Simple_linear_regression#Fitting_the_regression_line) to get take a look into the math behind the derivation of this formula.)\n",
    "\n",
    "Then once we have the slope value ($\\hat{m}$), we can put it back into our formula $(\\hat{y} = \\hat{m} x + \\hat{c})$ to calculate the intercept. The idea is that\n",
    "\n",
    "$$\\bar{y} = \\hat{c} + \\hat{m} \\bar{x}$$\n",
    "\n",
    "so\n",
    "\n",
    "$$\\hat{c} = \\bar{y} - \\hat{m} \\bar{x}$$\n",
    "\n",
    "Breaking down those components, we have:\n",
    "\n",
    "* $\\hat{c}$: the estimated intercept\n",
    "* $\\bar{y}$: the mean of the y values\n",
    "* $\\hat{m}$: the estimated slope\n",
    "* $\\bar{x}$: the mean of the x values"
   ]
  },
  {
   "cell_type": "markdown",
   "metadata": {},
   "source": [
    "## Let's Get Started\n",
    "\n",
    "In the cell below, we import the necessary libraries and provide you with some toy data:"
   ]
  },
  {
   "cell_type": "code",
   "execution_count": 1,
   "metadata": {
    "ExecuteTime": {
     "end_time": "2023-05-07T13:03:12.128369Z",
     "start_time": "2023-05-07T13:03:11.442747Z"
    }
   },
   "outputs": [],
   "source": [
    "# Run this cell without changes\n",
    "\n",
    "# import necessary libraries\n",
    "import numpy as np\n",
    "import matplotlib.pyplot as plt\n",
    "from matplotlib import style\n",
    "style.use('ggplot')\n",
    "\n",
    "# Initialize arrays X and Y with given values\n",
    "# X = Independent Variable\n",
    "X = np.array([1,2,3,4,5,6,8,8,9,10], dtype=np.float64)\n",
    "# Y = Dependent Variable\n",
    "Y = np.array([7,7,8,9,9,10,10,11,11,12], dtype=np.float64)"
   ]
  },
  {
   "cell_type": "markdown",
   "metadata": {},
   "source": [
    "## Scatter Plot\n",
    "\n",
    "Before performing a linear regression analysis, it's a best practice to look at a scatter plot of the independent variable vs. the dependent variable. Linear regression is only appropriate if there is a linear relationship between them. In the cell below, create a quick scatter plot showing x vs. y.\n",
    "\n",
    "---\n",
    "\n",
    "<details>\n",
    "    <summary style=\"cursor: pointer\"><b>Solution code (click to reveal)</b></summary>\n",
    "    \n",
    "```python\n",
    "plt.scatter(X, Y);\n",
    "```\n",
    "    \n",
    "</details>"
   ]
  },
  {
   "cell_type": "code",
   "execution_count": 3,
   "metadata": {
    "ExecuteTime": {
     "end_time": "2023-05-07T13:03:47.444024Z",
     "start_time": "2023-05-07T13:03:47.300934Z"
    }
   },
   "outputs": [
    {
     "data": {
      "image/png": "[encoded data removed]",
      "text/plain": [
       "<Figure size 432x288 with 1 Axes>"
      ]
     },
     "metadata": {},
     "output_type": "display_data"
    }
   ],
   "source": [
    "plt.scatter(X,Y);"
   ]
  },
  {
   "cell_type": "markdown",
   "metadata": {},
   "source": [
    "Based on the plot above, does linear regression analysis seem appropriate?\n",
    "\n",
    "---\n",
    "\n",
    "<details>\n",
    "    <summary style=\"cursor: pointer\"><b>Answer (click to reveal)</b></summary>\n",
    "    <p>Yes. The relationship is very linear but not perfectly linear</p>\n",
    "    <p>The best fit line should be able to explain this relationship with very low error</p>\n",
    "</details>"
   ]
  },
  {
   "cell_type": "code",
   "execution_count": null,
   "metadata": {},
   "outputs": [],
   "source": [
    "# Yes, becasue the points are vaguely linear."
   ]
  },
  {
   "cell_type": "markdown",
   "metadata": {},
   "source": [
    "## Calculating the Slope\n",
    "\n",
    "Write a function `calc_slope` that returns $\\hat{m}$ for a given set of x and y data.\n",
    "\n",
    "The formula is:\n",
    "\n",
    "$$\\hat{m} = \\rho \\frac{S_y}{S_x}$$\n",
    "\n",
    "Remember that you can use NumPy methods to calculate correlation and standard deviation.\n",
    "\n",
    "---\n",
    "\n",
    "<details>\n",
    "    <summary style=\"cursor: pointer\"><b>Solution code (click to reveal)</b></summary>\n",
    "    \n",
    "```python\n",
    "def calc_slope(x_vals, y_vals):\n",
    "    # setting up components of formula\n",
    "    rho = np.corrcoef(x_vals, y_vals)[0][1]\n",
    "    s_y = y_vals.std()\n",
    "    s_x = x_vals.std()\n",
    "    \n",
    "    # calculating slope estimate\n",
    "    m = rho * s_y / s_x\n",
    "    return m\n",
    "```\n",
    "    \n",
    "</details>"
   ]
  },
  {
   "cell_type": "code",
   "execution_count": 8,
   "metadata": {
    "ExecuteTime": {
     "end_time": "2023-05-07T13:12:16.593718Z",
     "start_time": "2023-05-07T13:12:16.586096Z"
    }
   },
   "outputs": [
    {
     "data": {
      "text/plain": [
       "0.5393518518518519"
      ]
     },
     "execution_count": 8,
     "metadata": {},
     "output_type": "execute_result"
    }
   ],
   "source": [
    "def calc_slope(x_vals, y_vals):\n",
    "    p = np.corrcoef(x_vals, y_vals)[0][1]\n",
    "    sy = np.std(y_vals)\n",
    "    sx = np.std(x_vals)\n",
    "    \n",
    "    return p*(sy/sx)\n",
    "m = calc_slope(X,Y)\n",
    "m # should produce approximately 0.539"
   ]
  },
  {
   "cell_type": "markdown",
   "metadata": {},
   "source": [
    "## Calculating the Intercept\n",
    "\n",
    "Now that we have our estimated slope $\\hat{m}$, we can calculate the estimated intercept $\\hat{c}$.\n",
    "\n",
    "As a reminder, the calculation for the best-fit line's y-intercept is:\n",
    "\n",
    "$$\\hat{c} = \\bar{y} - \\hat{m} \\bar{x}$$\n",
    "\n",
    "Write a function `calc_intercept` that returns $\\hat{c}$ for a given $\\hat{m}$, x, and y.\n",
    "\n",
    "---\n",
    "\n",
    "<details>\n",
    "    <summary style=\"cursor: pointer\"><b>Solution code (click to reveal)</b></summary>\n",
    "    \n",
    "```python\n",
    "def calc_intercept(m, x_vals, y_vals):\n",
    "    # setting up components of formula\n",
    "    y_mean = y_vals.mean()\n",
    "    x_mean = x_vals.mean()\n",
    "    \n",
    "    # calculating intercept estimate\n",
    "    c = y_mean - m * x_mean\n",
    "    return c\n",
    "```\n",
    "    \n",
    "</details>"
   ]
  },
  {
   "cell_type": "code",
   "execution_count": 9,
   "metadata": {
    "ExecuteTime": {
     "end_time": "2023-05-07T13:14:25.478333Z",
     "start_time": "2023-05-07T13:14:25.471102Z"
    }
   },
   "outputs": [
    {
     "data": {
      "text/plain": [
       "6.37962962962963"
      ]
     },
     "execution_count": 9,
     "metadata": {},
     "output_type": "execute_result"
    }
   ],
   "source": [
    "def calc_intercept(m, x_vals, y_vals):\n",
    "    y_bar = np.mean(y_vals)\n",
    "    m_hat = m\n",
    "    x_bar = np.mean(x_vals)\n",
    "    return y_bar - m_hat*x_bar\n",
    "c = calc_intercept(m, X, Y)\n",
    "c # should produce approximately 6.38"
   ]
  },
  {
   "cell_type": "markdown",
   "metadata": {},
   "source": [
    "## Predicting a New Data Point\n",
    "\n",
    "So, how might you go about actually making a prediction based on this model you just made?\n",
    "\n",
    "Now that we have a working model with $\\hat{m}$ and $\\hat{c}$ as model parameters, we can fill in a value of x with these parameters to identify a corresponding value of $\\hat{y}$ according to our model. Recall the formula:\n",
    "\n",
    "$$\\hat{y} = \\hat{m}x + \\hat{c}$$\n",
    "\n",
    "Let's try to find a y prediction for a new value of $x = 7$.\n",
    "\n",
    "---\n",
    "\n",
    "<details>\n",
    "    <summary style=\"cursor: pointer\"><b>Solution code (click to reveal)</b></summary>\n",
    "    \n",
    "```python\n",
    "y_predicted = m * x_new + c\n",
    "```\n",
    "    \n",
    "</details>"
   ]
  },
  {
   "cell_type": "code",
   "execution_count": 10,
   "metadata": {
    "ExecuteTime": {
     "end_time": "2023-05-07T13:16:08.941822Z",
     "start_time": "2023-05-07T13:16:08.934018Z"
    }
   },
   "outputs": [
    {
     "data": {
      "text/plain": [
       "10.155092592592592"
      ]
     },
     "execution_count": 10,
     "metadata": {},
     "output_type": "execute_result"
    }
   ],
   "source": [
    "# Replace None with appropriate code\n",
    "x_new = 7\n",
    "m = calc_slope(X,Y)\n",
    "y_predicted = m*x_new + calc_intercept(m, X, Y)\n",
    "y_predicted # should be about 10.155"
   ]
  },
  {
   "cell_type": "markdown",
   "metadata": {},
   "source": [
    "## Bringing It All Together\n",
    "\n",
    "Write a function `best_fit` that takes in x and y values, calculates and prints the coefficient and intercept, and plots the original data points along with the best fit line. Be sure to reuse the functions we have already written!\n",
    "\n",
    "---\n",
    "\n",
    "<details>\n",
    "    <summary style=\"cursor: pointer\"><b>Solution code (click to reveal)</b></summary>\n",
    "    \n",
    "```python\n",
    "def best_fit(x_vals, y_vals):\n",
    "    # Create a scatter plot of x vs. y\n",
    "    fig, ax = plt.subplots()\n",
    "    ax.scatter(x_vals, y_vals, color='#003F72', label=\"Data points\")\n",
    "\n",
    "    # Calculate coefficient and intercept\n",
    "    m = calc_slope(x_vals, y_vals)\n",
    "    c = calc_intercept(m, x_vals, y_vals)\n",
    "    \n",
    "    # Plot line created by coefficient and intercept\n",
    "    regression_line = m * x_vals + c\n",
    "    ax.plot(x_vals, regression_line, label= \"Regression Line\")\n",
    "    ax.legend()\n",
    "```\n",
    "    \n",
    "</details>"
   ]
  },
  {
   "cell_type": "code",
   "execution_count": 14,
   "metadata": {
    "ExecuteTime": {
     "end_time": "2023-05-07T13:27:58.054846Z",
     "start_time": "2023-05-07T13:27:57.859800Z"
    }
   },
   "outputs": [
    {
     "data": {
      "image/png": "[encoded data removed]",
      "text/plain": [
       "<Figure size 432x288 with 1 Axes>"
      ]
     },
     "metadata": {},
     "output_type": "display_data"
    },
    {
     "data": {
      "text/plain": [
       "(0.5393518518518519, 6.37962962962963)"
      ]
     },
     "execution_count": 14,
     "metadata": {},
     "output_type": "execute_result"
    }
   ],
   "source": [
    "def best_fit(x_vals, y_vals):\n",
    "    # Create a scatter plot of x vs. y\n",
    "    fig, ax = plt.subplots()\n",
    "    ax.scatter(x_vals, y_vals, label=\"Data points\")\n",
    "    \n",
    "    # Calculate and print coefficient and intercept\n",
    "    m = calc_slope(X,Y)\n",
    "    # Plot line created by coefficient and intercept\n",
    "    c = calc_intercept(m, X, Y)\n",
    "    y_cords = m*x_vals + c\n",
    "    ax.plot(x_vals, y_cords, color = 'blue', label= \"Regression Line\")\n",
    "    ax.legend()\n",
    "    plt.show()\n",
    "    return m, c\n",
    "best_fit(X, Y)"
   ]
  },
  {
   "cell_type": "markdown",
   "metadata": {},
   "source": [
    "So there we have it, our least squares regression line. This is the best fit line and does describe the data pretty well (still not perfect though). \n",
    "\n",
    "## Describe your Model Mathematically and in Words\n",
    "\n",
    "What is the overall formula of the model you have created? How would you describe the slope and intercept, and what do they say about the relationship between x and y?\n",
    "\n",
    "---\n",
    "\n",
    "<details>\n",
    "    <summary style=\"cursor: pointer\"><b>Answer (click to reveal)</b></summary>\n",
    "    \n",
    "The overall formula is $y = 0.53x + 6.37$.\n",
    "    \n",
    "The intercept (where the line crosses the y-axis) is at 6.37. This means that if x is equal to 0, the value of y would be 6.37.\n",
    "    \n",
    "The slope of the line is 0.53. This means that every increase of 1 in the value of x is associated with an increase of 0.53 in the value of y.\n",
    "\n",
    "</details>"
   ]
  },
  {
   "cell_type": "code",
   "execution_count": null,
   "metadata": {},
   "outputs": [],
   "source": [
    "\"\"\"\n",
    "I created a formula which creates a linear model to reprsent the \n",
    "relationship betwen two variables. The slope was found by using the \n",
    "pearsons correlation coefficient and scaling it by the ratio of the\n",
    "standard deviations of each variable. The y-intercept was found as the \n",
    "difference between the average value of the dependent variable and \n",
    "the predicted average value of the dependent variable based on the slope\n",
    "we found. The slope tells us how much our dependent variable varies in \n",
    "response to our independent variable and our intercept tells us what \n",
    "our bde value of our depentent variable is when our indepentent variable\n",
    "is equal to zero. \n",
    "\"\"\""
   ]
  },
  {
   "cell_type": "markdown",
   "metadata": {},
   "source": [
    "## Summary\n",
    "\n",
    "In this lesson, you learned how to perform linear regression from scratch using NumPy methods. You first calculated the slope and intercept parameters of the regression line that best fit the data. You then used the regression line parameters to predict the value ($\\hat y$-value) of a previously unseen feature ($x$-value). You finally plotted your model against the original dataset."
   ]
  }
 ],
 "metadata": {
  "kernelspec": {
   "display_name": "Python (learn-env)",
   "language": "python",
   "name": "learn-env"
  },
  "language_info": {
   "codemirror_mode": {
    "name": "ipython",
    "version": 3
   },
   "file_extension": ".py",
   "mimetype": "text/x-python",
   "name": "python",
   "nbconvert_exporter": "python",
   "pygments_lexer": "ipython3",
   "version": "3.8.5"
  }
 },
 "nbformat": 4,
 "nbformat_minor": 2
}
